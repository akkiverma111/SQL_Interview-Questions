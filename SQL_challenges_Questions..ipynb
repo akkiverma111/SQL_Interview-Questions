{
  "nbformat": 4,
  "nbformat_minor": 0,
  "metadata": {
    "colab": {
      "provenance": []
    },
    "kernelspec": {
      "name": "python3",
      "display_name": "Python 3"
    },
    "language_info": {
      "name": "python"
    }
  },
  "cells": [
    {
      "cell_type": "code",
      "execution_count": 8,
      "metadata": {
        "id": "etOEdn0Mv99O"
      },
      "outputs": [],
      "source": [
        "#  Write only one for a notebook\n",
        "import sqlite3\n",
        "conn = sqlite3.connect('test.db')\n",
        "cur = conn.cursor()\n",
        "\n",
        "\n",
        "%load_ext sql\n",
        "%sql sqlite:///test.db\n",
        "%reload_ext sql"
      ]
    },
    {
      "cell_type": "code",
      "source": [
        "%%sql\n",
        "drop table if exists building_visits;\n",
        "CREATE TABLE building_visits(\n",
        "    visit_date_time DATETIME,\n",
        "    visitors_name VARCHAR(512),\n",
        "    visited_floor INT\n",
        ");\n",
        "\n",
        "\n",
        "-- Insert values into the table\n",
        "\n",
        "INSERT INTO building_visits (visit_date_time, visitors_name, visited_floor)\n",
        "VALUES\n",
        "('2023-12-28 09:00', 'Arjun Patel', 5),\n",
        "('2023-12-28 10:30', 'Priya Gupta', 8),\n",
        "('2023-12-28 11:15', 'Arjun Patel', 10),\n",
        "('2023-12-28 14:00', 'Ananya Singh', 3),\n",
        "('2023-12-28 15:45', 'Priya Gupta', 5),\n",
        "('2023-12-28 16:30', 'Arjun Patel', 5),\n",
        "('2023-12-28 17:20', 'Ananya Singh', 2),\n",
        "('2023-12-28 18:10', 'Priya Gupta', 6),\n",
        "('2023-12-28 18:45', 'Arjun Patel', 1),\n",
        "('2023-12-28 19:30', 'Ananya Singh', 2);\n",
        "\n"
      ],
      "metadata": {
        "colab": {
          "base_uri": "https://localhost:8080/"
        },
        "id": "iw8469X2xP1_",
        "outputId": "bd6eb948-b83c-4f25-e16f-15a1292a4f85"
      },
      "execution_count": 11,
      "outputs": [
        {
          "output_type": "stream",
          "name": "stdout",
          "text": [
            " * sqlite:///test.db\n",
            "Done.\n",
            "Done.\n",
            "10 rows affected.\n"
          ]
        },
        {
          "output_type": "execute_result",
          "data": {
            "text/plain": [
              "[]"
            ]
          },
          "metadata": {},
          "execution_count": 11
        }
      ]
    },
    {
      "cell_type": "code",
      "source": [
        "%%sql\n",
        "\n",
        "select * from building_visits ;"
      ],
      "metadata": {
        "colab": {
          "base_uri": "https://localhost:8080/",
          "height": 282
        },
        "id": "myzcgrOs6KU7",
        "outputId": "0af693e0-eb99-4783-c2fa-a56876aa34c1"
      },
      "execution_count": 12,
      "outputs": [
        {
          "output_type": "stream",
          "name": "stdout",
          "text": [
            " * sqlite:///test.db\n",
            "Done.\n"
          ]
        },
        {
          "output_type": "execute_result",
          "data": {
            "text/plain": [
              "[('2023-12-28 09:00', 'Arjun Patel', 5),\n",
              " ('2023-12-28 10:30', 'Priya Gupta', 8),\n",
              " ('2023-12-28 11:15', 'Arjun Patel', 10),\n",
              " ('2023-12-28 14:00', 'Ananya Singh', 3),\n",
              " ('2023-12-28 15:45', 'Priya Gupta', 5),\n",
              " ('2023-12-28 16:30', 'Arjun Patel', 5),\n",
              " ('2023-12-28 17:20', 'Ananya Singh', 2),\n",
              " ('2023-12-28 18:10', 'Priya Gupta', 6),\n",
              " ('2023-12-28 18:45', 'Arjun Patel', 1),\n",
              " ('2023-12-28 19:30', 'Ananya Singh', 2)]"
            ],
            "text/html": [
              "<table>\n",
              "    <thead>\n",
              "        <tr>\n",
              "            <th>visit_date_time</th>\n",
              "            <th>visitors_name</th>\n",
              "            <th>visited_floor</th>\n",
              "        </tr>\n",
              "    </thead>\n",
              "    <tbody>\n",
              "        <tr>\n",
              "            <td>2023-12-28 09:00</td>\n",
              "            <td>Arjun Patel</td>\n",
              "            <td>5</td>\n",
              "        </tr>\n",
              "        <tr>\n",
              "            <td>2023-12-28 10:30</td>\n",
              "            <td>Priya Gupta</td>\n",
              "            <td>8</td>\n",
              "        </tr>\n",
              "        <tr>\n",
              "            <td>2023-12-28 11:15</td>\n",
              "            <td>Arjun Patel</td>\n",
              "            <td>10</td>\n",
              "        </tr>\n",
              "        <tr>\n",
              "            <td>2023-12-28 14:00</td>\n",
              "            <td>Ananya Singh</td>\n",
              "            <td>3</td>\n",
              "        </tr>\n",
              "        <tr>\n",
              "            <td>2023-12-28 15:45</td>\n",
              "            <td>Priya Gupta</td>\n",
              "            <td>5</td>\n",
              "        </tr>\n",
              "        <tr>\n",
              "            <td>2023-12-28 16:30</td>\n",
              "            <td>Arjun Patel</td>\n",
              "            <td>5</td>\n",
              "        </tr>\n",
              "        <tr>\n",
              "            <td>2023-12-28 17:20</td>\n",
              "            <td>Ananya Singh</td>\n",
              "            <td>2</td>\n",
              "        </tr>\n",
              "        <tr>\n",
              "            <td>2023-12-28 18:10</td>\n",
              "            <td>Priya Gupta</td>\n",
              "            <td>6</td>\n",
              "        </tr>\n",
              "        <tr>\n",
              "            <td>2023-12-28 18:45</td>\n",
              "            <td>Arjun Patel</td>\n",
              "            <td>1</td>\n",
              "        </tr>\n",
              "        <tr>\n",
              "            <td>2023-12-28 19:30</td>\n",
              "            <td>Ananya Singh</td>\n",
              "            <td>2</td>\n",
              "        </tr>\n",
              "    </tbody>\n",
              "</table>"
            ]
          },
          "metadata": {},
          "execution_count": 12
        }
      ]
    },
    {
      "cell_type": "code",
      "source": [
        "# Write an SQL query to fetch 𝐭𝐡𝐞 𝐯𝐢𝐬𝐢𝐭𝐨𝐫 𝐧𝐚𝐦𝐞𝐬, 𝐧𝐨. 𝐨𝐟 𝐯𝐢𝐬𝐢𝐭𝐬 𝐦𝐚𝐝𝐞 & 𝐦𝐨𝐬𝐭 𝐯𝐢𝐬𝐢𝐭𝐞𝐝 𝐟𝐥𝐨𝐨𝐫 𝐟𝐨𝐫 𝐞𝐚𝐜𝐡 𝐧𝐚𝐦𝐞.\n",
        "# 𝐈𝐧 𝐜𝐚𝐬𝐞 𝐨𝐟 𝐭𝐢𝐞 𝐟𝐨𝐫 𝐦𝐨𝐬𝐭 𝐯𝐢𝐬𝐢𝐭𝐞𝐝 𝐟𝐥𝐨𝐨𝐫 𝐜𝐨𝐧𝐬𝐢𝐝𝐞𝐫 𝐚𝐥𝐥 𝐭𝐡𝐞 𝐟𝐥𝐨𝐨𝐫𝐬.\n",
        "%%sql\n",
        "WITH cte2 AS(\n",
        "    WITH cte1 AS (\n",
        "        SELECT visitors_name, visited_floor, ROW_NUMBER() OVER(PARTITION BY visitors_name, visited_floor) rn\n",
        "        FROM building_visits )\n",
        "    SELECT *, COUNT(rn) OVER(PARTITION BY visitors_name) no_of_visits,\n",
        "    MAX(rn) OVER(PARTITION BY visitors_name) rn1\n",
        "    FROM cte1)\n",
        "SELECT visitors_name, no_of_visits, visited_floor most_visited_floor FROM cte2\n",
        "WHERE rn = rn1 ;\n",
        "\n"
      ],
      "metadata": {
        "colab": {
          "base_uri": "https://localhost:8080/",
          "height": 178
        },
        "id": "MXS-TfrpyKvo",
        "outputId": "502430ef-f34e-49df-a0b3-179d12160179"
      },
      "execution_count": 13,
      "outputs": [
        {
          "output_type": "stream",
          "name": "stdout",
          "text": [
            " * sqlite:///test.db\n",
            "Done.\n"
          ]
        },
        {
          "output_type": "execute_result",
          "data": {
            "text/plain": [
              "[('Ananya Singh', 3, 2),\n",
              " ('Arjun Patel', 4, 5),\n",
              " ('Priya Gupta', 3, 5),\n",
              " ('Priya Gupta', 3, 6),\n",
              " ('Priya Gupta', 3, 8)]"
            ],
            "text/html": [
              "<table>\n",
              "    <thead>\n",
              "        <tr>\n",
              "            <th>visitors_name</th>\n",
              "            <th>no_of_visits</th>\n",
              "            <th>most_visited_floor</th>\n",
              "        </tr>\n",
              "    </thead>\n",
              "    <tbody>\n",
              "        <tr>\n",
              "            <td>Ananya Singh</td>\n",
              "            <td>3</td>\n",
              "            <td>2</td>\n",
              "        </tr>\n",
              "        <tr>\n",
              "            <td>Arjun Patel</td>\n",
              "            <td>4</td>\n",
              "            <td>5</td>\n",
              "        </tr>\n",
              "        <tr>\n",
              "            <td>Priya Gupta</td>\n",
              "            <td>3</td>\n",
              "            <td>5</td>\n",
              "        </tr>\n",
              "        <tr>\n",
              "            <td>Priya Gupta</td>\n",
              "            <td>3</td>\n",
              "            <td>6</td>\n",
              "        </tr>\n",
              "        <tr>\n",
              "            <td>Priya Gupta</td>\n",
              "            <td>3</td>\n",
              "            <td>8</td>\n",
              "        </tr>\n",
              "    </tbody>\n",
              "</table>"
            ]
          },
          "metadata": {},
          "execution_count": 13
        }
      ]
    },
    {
      "cell_type": "markdown",
      "source": [
        " **Problem statement 2 : *write* a query to find number of gold medal per swimmer for swimmers who won only gold medals**"
      ],
      "metadata": {
        "id": "TRys2RY77mC6"
      }
    },
    {
      "cell_type": "code",
      "source": [
        "\n",
        "%%sql\n",
        "CREATE TABLE events (\n",
        "ID int,\n",
        "event varchar(255),\n",
        "YEAR INt,\n",
        "GOLD varchar(255),\n",
        "SILVER varchar(255),\n",
        "BRONZE varchar(255)\n",
        ");\n",
        "\n",
        "delete from events;\n",
        "\n",
        "INSERT INTO events VALUES (1,'100m',2016, 'Amthhew Mcgarray','donald','barbara');\n",
        "INSERT INTO events VALUES (2,'200m',2016, 'Nichole','Alvaro Eaton','janet Smith');\n",
        "INSERT INTO events VALUES (3,'500m',2016, 'Charles','Nichole','Susana');\n",
        "INSERT INTO events VALUES (4,'100m',2016, 'Ronald','maria','paula');\n",
        "INSERT INTO events VALUES (5,'200m',2016, 'Alfred','carol','Steven');\n",
        "INSERT INTO events VALUES (6,'500m',2016, 'Nichole','Alfred','Brandon');\n",
        "INSERT INTO events VALUES (7,'100m',2016, 'Charles','Dennis','Susana');\n",
        "INSERT INTO events VALUES (8,'200m',2016, 'Thomas','Dawn','catherine');\n",
        "INSERT INTO events VALUES (9,'500m',2016, 'Thomas','Dennis','paula');\n",
        "INSERT INTO events VALUES (10,'200m',2016, 'jessica','Donald','Stefeney');\n",
        "INSERT INTO events VALUES (11,'500m',2016,'Thomas','Steven','Catherine');\n"
      ],
      "metadata": {
        "colab": {
          "base_uri": "https://localhost:8080/"
        },
        "id": "VONauSI17OJ-",
        "outputId": "5961ee08-0539-444c-9ce5-7c6b5f2b9ecd"
      },
      "execution_count": 17,
      "outputs": [
        {
          "output_type": "stream",
          "name": "stdout",
          "text": [
            " * sqlite:///test.db\n",
            "Done.\n",
            "0 rows affected.\n",
            "1 rows affected.\n",
            "1 rows affected.\n",
            "1 rows affected.\n",
            "1 rows affected.\n",
            "1 rows affected.\n",
            "1 rows affected.\n",
            "1 rows affected.\n",
            "1 rows affected.\n",
            "1 rows affected.\n",
            "1 rows affected.\n",
            "1 rows affected.\n"
          ]
        },
        {
          "output_type": "execute_result",
          "data": {
            "text/plain": [
              "[]"
            ]
          },
          "metadata": {},
          "execution_count": 17
        }
      ]
    },
    {
      "cell_type": "code",
      "source": [
        "%%sql\n",
        "select GOLD as swimmer, count(GOLD) as total_medals from events group by GOLD having GOLD not in\n",
        "(select SILVER from events\n",
        "union all\n",
        "select BRONZE from events) ;\n",
        "\n"
      ],
      "metadata": {
        "colab": {
          "base_uri": "https://localhost:8080/",
          "height": 178
        },
        "id": "Ti5I4FJM72DB",
        "outputId": "13d61852-0192-485e-fbbb-65f275db59bb"
      },
      "execution_count": 19,
      "outputs": [
        {
          "output_type": "stream",
          "name": "stdout",
          "text": [
            " * sqlite:///test.db\n",
            "Done.\n"
          ]
        },
        {
          "output_type": "execute_result",
          "data": {
            "text/plain": [
              "[('Amthhew Mcgarray', 1),\n",
              " ('Charles', 2),\n",
              " ('Ronald', 1),\n",
              " ('Thomas', 3),\n",
              " ('jessica', 1)]"
            ],
            "text/html": [
              "<table>\n",
              "    <thead>\n",
              "        <tr>\n",
              "            <th>swimmer</th>\n",
              "            <th>total_medals</th>\n",
              "        </tr>\n",
              "    </thead>\n",
              "    <tbody>\n",
              "        <tr>\n",
              "            <td>Amthhew Mcgarray</td>\n",
              "            <td>1</td>\n",
              "        </tr>\n",
              "        <tr>\n",
              "            <td>Charles</td>\n",
              "            <td>2</td>\n",
              "        </tr>\n",
              "        <tr>\n",
              "            <td>Ronald</td>\n",
              "            <td>1</td>\n",
              "        </tr>\n",
              "        <tr>\n",
              "            <td>Thomas</td>\n",
              "            <td>3</td>\n",
              "        </tr>\n",
              "        <tr>\n",
              "            <td>jessica</td>\n",
              "            <td>1</td>\n",
              "        </tr>\n",
              "    </tbody>\n",
              "</table>"
            ]
          },
          "metadata": {},
          "execution_count": 19
        }
      ]
    },
    {
      "cell_type": "markdown",
      "source": [
        "**Problem statement 3**: Write an SQL query 𝐭𝐨 𝐝𝐢𝐬𝐩𝐥𝐚𝐲 𝐭𝐡𝐞 𝐝𝐞𝐩𝐭 𝐰𝐡𝐢𝐜𝐡 𝐡𝐚𝐬 𝐭𝐡𝐞 𝐨𝐯𝐞𝐫𝐚𝐥𝐥 𝐦𝐢𝐧𝐢𝐦𝐮𝐦 𝐭𝐱𝐧𝐚𝐦𝐨𝐮𝐧𝐭 𝐚𝐧𝐝 𝐭𝐡𝐞 𝐝𝐞𝐩𝐭 𝐰𝐡𝐢𝐜𝐡 𝐡𝐚𝐬 𝐭𝐡𝐞 𝐨𝐯𝐞𝐫𝐚𝐥𝐥 𝐦𝐚𝐱𝐢𝐦𝐮𝐦 𝐭𝐫𝐚𝐧𝐬𝐚𝐜𝐭𝐢𝐨𝐧 𝐚𝐦𝐨𝐮𝐧𝐭.\n"
      ],
      "metadata": {
        "id": "DF3Xf--YCFfb"
      }
    },
    {
      "cell_type": "code",
      "source": [
        "\n",
        "%%sql\n",
        "create table ecommerce(dept varchar(50),txnmonth varchar(50),txnamount int);\n",
        "insert into ecommerce values('Electronics','Jan',1000);\n",
        "insert into ecommerce values('Electronics','Feb',2000);\n",
        "insert into ecommerce values('Electronics','Mar',2500);\n",
        "insert into ecommerce values('Textile','Jan',1000);\n",
        "insert into ecommerce values('Textile','Feb',2000);\n",
        "insert into ecommerce values('Textile','Mar',1500);\n",
        "insert into ecommerce values('Sports','Jan',600);\n",
        "insert into ecommerce values('Sports','Feb',200);\n",
        "insert into ecommerce values('Sports','Mar',500);"
      ],
      "metadata": {
        "colab": {
          "base_uri": "https://localhost:8080/"
        },
        "id": "EUCIv56VBNoN",
        "outputId": "45d9e194-42e5-49f2-d585-c68eec88f2ac"
      },
      "execution_count": 20,
      "outputs": [
        {
          "output_type": "stream",
          "name": "stdout",
          "text": [
            " * sqlite:///test.db\n",
            "Done.\n",
            "1 rows affected.\n",
            "1 rows affected.\n",
            "1 rows affected.\n",
            "1 rows affected.\n",
            "1 rows affected.\n",
            "1 rows affected.\n",
            "1 rows affected.\n",
            "1 rows affected.\n",
            "1 rows affected.\n"
          ]
        },
        {
          "output_type": "execute_result",
          "data": {
            "text/plain": [
              "[]"
            ]
          },
          "metadata": {},
          "execution_count": 20
        }
      ]
    },
    {
      "cell_type": "code",
      "source": [
        "%%sql\n",
        "with cte1 as\n",
        "(SELECT dept minimum_transaction FROM ecommerce ORDER BY txnamount LIMIT 1),\n",
        "cte2 as (SELECT dept maximum_transaction FROM ecommerce ORDER BY txnamount DESC LIMIT 1)\n",
        "SELECT * FROM cte1, cte2;\n"
      ],
      "metadata": {
        "colab": {
          "base_uri": "https://localhost:8080/",
          "height": 95
        },
        "id": "UIWDalSLBy9b",
        "outputId": "16e3eb3c-82ef-4aa4-9b5e-36bf714f0d4e"
      },
      "execution_count": 21,
      "outputs": [
        {
          "output_type": "stream",
          "name": "stdout",
          "text": [
            " * sqlite:///test.db\n",
            "Done.\n"
          ]
        },
        {
          "output_type": "execute_result",
          "data": {
            "text/plain": [
              "[('Sports', 'Electronics')]"
            ],
            "text/html": [
              "<table>\n",
              "    <thead>\n",
              "        <tr>\n",
              "            <th>minimum_transaction</th>\n",
              "            <th>maximum_transaction</th>\n",
              "        </tr>\n",
              "    </thead>\n",
              "    <tbody>\n",
              "        <tr>\n",
              "            <td>Sports</td>\n",
              "            <td>Electronics</td>\n",
              "        </tr>\n",
              "    </tbody>\n",
              "</table>"
            ]
          },
          "metadata": {},
          "execution_count": 21
        }
      ]
    },
    {
      "cell_type": "markdown",
      "source": [
        "**Problem statement 4** : Given the travel table with columns 𝐬𝐨𝐮𝐫𝐜𝐞, 𝐝𝐞𝐬𝐭𝐢𝐧𝐚𝐭𝐢𝐨𝐧, 𝐚𝐧𝐝 𝐝𝐢𝐬𝐭𝐚𝐧𝐜𝐞. Write an SQL query 𝐭𝐨 𝐟𝐢𝐧𝐝 𝐚𝐥𝐥 𝐮𝐧𝐢𝐪𝐮𝐞 𝐭𝐫𝐚𝐯𝐞𝐥 𝐫𝐨𝐮𝐭𝐞𝐬.\n",
        "𝐋𝐞𝐭'𝐬 𝐜𝐨𝐧𝐬𝐢𝐝𝐞𝐫 𝐰𝐞 𝐡𝐚𝐯𝐞 𝐝𝐚𝐭𝐚 𝐰𝐡𝐞𝐫𝐞 𝐭𝐫𝐚𝐯𝐞𝐥 𝐫𝐨𝐮𝐭𝐞𝐬 𝐞𝐱𝐢𝐬𝐭 𝐛𝐞𝐭𝐰𝐞𝐞𝐧 𝐁𝐚𝐧𝐠𝐚𝐥𝐨𝐫𝐞 𝐭𝐨 𝐌𝐮𝐦𝐛𝐚𝐢, 𝐚𝐧𝐝 𝐚𝐥𝐬𝐨 𝐛𝐞𝐭𝐰𝐞𝐞𝐧 𝐌𝐮𝐦𝐛𝐚𝐢 𝐭𝐨 𝐁𝐚𝐧𝐠𝐚𝐥𝐨𝐫𝐞. 𝐅𝐨𝐫 𝐬𝐮𝐜𝐡 𝐝𝐚𝐭𝐚, 𝐨𝐧𝐥𝐲 𝐨𝐧𝐞 𝐫𝐨𝐮𝐭𝐞 𝐬𝐡𝐨𝐮𝐥𝐝 𝐛𝐞 𝐜𝐨𝐧𝐬𝐢𝐝𝐞𝐫𝐞𝐝.\n"
      ],
      "metadata": {
        "id": "pc0gIy1eCeLO"
      }
    },
    {
      "cell_type": "code",
      "source": [
        "%%sql\n",
        "CREATE TABLE travel ( source VARCHAR(512),\n",
        "destination VARCHAR(512),\n",
        "distance INT\n",
        ");\n",
        "INSERT INTO travel VALUES ('Mumbai', 'Bangalore', '500'),\n",
        "('Bangalore', 'Mumbai', '500'),\n",
        "('Delhi', 'Mathura', '150'),\n",
        "('Mathura', 'Delhi', '150'),\n",
        "('Nagpur', 'Pune', '500'),\n",
        "('Pune', 'Nagpur', '500');\n"
      ],
      "metadata": {
        "colab": {
          "base_uri": "https://localhost:8080/"
        },
        "id": "fcrM7_YqCt0B",
        "outputId": "aeda1838-b2ef-466d-c342-b403dd87ff52"
      },
      "execution_count": 22,
      "outputs": [
        {
          "output_type": "stream",
          "name": "stdout",
          "text": [
            " * sqlite:///test.db\n",
            "Done.\n",
            "6 rows affected.\n"
          ]
        },
        {
          "output_type": "execute_result",
          "data": {
            "text/plain": [
              "[]"
            ]
          },
          "metadata": {},
          "execution_count": 22
        }
      ]
    },
    {
      "cell_type": "code",
      "source": [
        "%%sql\n",
        "select * from travel where source > destination"
      ],
      "metadata": {
        "colab": {
          "base_uri": "https://localhost:8080/",
          "height": 136
        },
        "id": "fLvMDM9QC1cq",
        "outputId": "4123f76b-b068-416e-d7d3-73a4eea21e0e"
      },
      "execution_count": 23,
      "outputs": [
        {
          "output_type": "stream",
          "name": "stdout",
          "text": [
            " * sqlite:///test.db\n",
            "Done.\n"
          ]
        },
        {
          "output_type": "execute_result",
          "data": {
            "text/plain": [
              "[('Mumbai', 'Bangalore', 500),\n",
              " ('Mathura', 'Delhi', 150),\n",
              " ('Pune', 'Nagpur', 500)]"
            ],
            "text/html": [
              "<table>\n",
              "    <thead>\n",
              "        <tr>\n",
              "            <th>source</th>\n",
              "            <th>destination</th>\n",
              "            <th>distance</th>\n",
              "        </tr>\n",
              "    </thead>\n",
              "    <tbody>\n",
              "        <tr>\n",
              "            <td>Mumbai</td>\n",
              "            <td>Bangalore</td>\n",
              "            <td>500</td>\n",
              "        </tr>\n",
              "        <tr>\n",
              "            <td>Mathura</td>\n",
              "            <td>Delhi</td>\n",
              "            <td>150</td>\n",
              "        </tr>\n",
              "        <tr>\n",
              "            <td>Pune</td>\n",
              "            <td>Nagpur</td>\n",
              "            <td>500</td>\n",
              "        </tr>\n",
              "    </tbody>\n",
              "</table>"
            ]
          },
          "metadata": {},
          "execution_count": 23
        }
      ]
    },
    {
      "cell_type": "markdown",
      "source": [
        "***Problem statement 5:*** 𝗪𝗿𝗶𝘁𝗲 𝗮𝗻 𝗦𝗤𝗟 𝗾𝘂𝗲𝗿𝘆 𝘁𝗼 𝘁𝗿𝗮𝗻𝘀𝗳𝗼𝗿𝗺 𝘁𝗵𝗲 𝗶𝗻𝗽𝘂𝘁 𝘁𝗮𝗯𝗹𝗲 𝗶𝗻𝘁𝗼 𝘁𝗵𝗲 𝗼𝘂𝘁𝗽𝘂𝘁 𝘁𝗮𝗯𝗹𝗲 𝗮𝘀 𝘀𝗵𝗼𝘄𝗻 𝗯𝗲𝗹𝗼𝘄.\n"
      ],
      "metadata": {
        "id": "lJmMY415DYfF"
      }
    },
    {
      "cell_type": "code",
      "source": [
        "%%sql\n",
        "CREATE TABLE employees (\n",
        "emp_id INT,\n",
        "age INT\n",
        ");\n",
        "\n",
        "INSERT INTO employees (emp_id, age) VALUES\n",
        "(1, 5),\n",
        "(2, 16),\n",
        "(3, 19),\n",
        "(4, 31),\n",
        "(5, 50);\n"
      ],
      "metadata": {
        "colab": {
          "base_uri": "https://localhost:8080/"
        },
        "id": "Dp4FdszIDv3c",
        "outputId": "571643d2-b776-49b9-a46a-71bfe2b57b90"
      },
      "execution_count": 25,
      "outputs": [
        {
          "output_type": "stream",
          "name": "stdout",
          "text": [
            " * sqlite:///test.db\n",
            "Done.\n",
            "5 rows affected.\n"
          ]
        },
        {
          "output_type": "execute_result",
          "data": {
            "text/plain": [
              "[]"
            ]
          },
          "metadata": {},
          "execution_count": 25
        }
      ]
    },
    {
      "cell_type": "code",
      "source": [
        "%%sql\n",
        "select emp_id, age ,\n",
        "case\n",
        "when age between 1 and 10 then '1-10'\n",
        "when age between 11 and 20 then '11-20'\n",
        "when age between 21 and 30 then '21-30'\n",
        "when age between 31 and 40 then '31-40'\n",
        "when age between 41 and 50 then '41-50'\n",
        "end as age_group from employees;"
      ],
      "metadata": {
        "colab": {
          "base_uri": "https://localhost:8080/",
          "height": 178
        },
        "id": "5MMBXzoOESQO",
        "outputId": "dd389287-f60a-492f-8866-6a97b436bd54"
      },
      "execution_count": 29,
      "outputs": [
        {
          "output_type": "stream",
          "name": "stdout",
          "text": [
            " * sqlite:///test.db\n",
            "Done.\n"
          ]
        },
        {
          "output_type": "execute_result",
          "data": {
            "text/plain": [
              "[(1, 5, '1-10'),\n",
              " (2, 16, '11-20'),\n",
              " (3, 19, '11-20'),\n",
              " (4, 31, '31-40'),\n",
              " (5, 50, '41-50')]"
            ],
            "text/html": [
              "<table>\n",
              "    <thead>\n",
              "        <tr>\n",
              "            <th>emp_id</th>\n",
              "            <th>age</th>\n",
              "            <th>age_group</th>\n",
              "        </tr>\n",
              "    </thead>\n",
              "    <tbody>\n",
              "        <tr>\n",
              "            <td>1</td>\n",
              "            <td>5</td>\n",
              "            <td>1-10</td>\n",
              "        </tr>\n",
              "        <tr>\n",
              "            <td>2</td>\n",
              "            <td>16</td>\n",
              "            <td>11-20</td>\n",
              "        </tr>\n",
              "        <tr>\n",
              "            <td>3</td>\n",
              "            <td>19</td>\n",
              "            <td>11-20</td>\n",
              "        </tr>\n",
              "        <tr>\n",
              "            <td>4</td>\n",
              "            <td>31</td>\n",
              "            <td>31-40</td>\n",
              "        </tr>\n",
              "        <tr>\n",
              "            <td>5</td>\n",
              "            <td>50</td>\n",
              "            <td>41-50</td>\n",
              "        </tr>\n",
              "    </tbody>\n",
              "</table>"
            ]
          },
          "metadata": {},
          "execution_count": 29
        }
      ]
    },
    {
      "cell_type": "markdown",
      "source": [
        "***Problem statement 6***: Write an SQL query 𝐭𝐨 𝐟𝐞𝐭𝐜𝐡 𝐭𝐡𝐞 𝐮𝐬𝐞𝐫_𝐢𝐝𝐬 𝐰𝐡𝐢𝐜𝐡 𝐡𝐚𝐯𝐞 𝐨𝐧𝐥𝐲 𝐛𝐨𝐮𝐠𝐡𝐭 '𝐁𝐮𝐫𝐠𝐞𝐫' 𝐚𝐧𝐝 '𝐂𝐨𝐥𝐝 𝐃𝐫𝐢𝐧𝐤' 𝐚𝐧𝐝 𝐧𝐨 𝐨𝐭𝐡𝐞𝐫 𝐢𝐭𝐞𝐦𝐬.\n",
        "\n"
      ],
      "metadata": {
        "id": "leFRbnduF2IJ"
      }
    },
    {
      "cell_type": "code",
      "source": [
        "\n",
        "%%sql\n",
        "CREATE TABLE orders(\n",
        "user_id INT,\n",
        "item_ordered VARCHAR(512)\n",
        ");\n",
        "INSERT INTO orders VALUES ('1', 'Pizza');\n",
        "INSERT INTO orders VALUES ('1', 'Burger');\n",
        "INSERT INTO orders VALUES ('2', 'Cold Drink');\n",
        "INSERT INTO orders VALUES ('2', 'Burger');\n",
        "INSERT INTO orders VALUES ('3', 'Burger');\n",
        "INSERT INTO orders VALUES ('3', 'Cold Drink');\n",
        "INSERT INTO orders VALUES ('4', 'Pizza');\n",
        "INSERT INTO orders VALUES ('4', 'Cold Drink');\n",
        "INSERT INTO orders VALUES ('5', 'Cold Drink');\n",
        "INSERT INTO orders VALUES ('6', 'Burger');\n",
        "INSERT INTO orders VALUES ('6', 'Cold Drink');\n",
        "INSERT INTO orders VALUES ('7', 'Pizza');\n",
        "INSERT INTO orders VALUES ('8', 'Burger');"
      ],
      "metadata": {
        "colab": {
          "base_uri": "https://localhost:8080/"
        },
        "id": "p78pNW32G5Ja",
        "outputId": "4bc84143-5dc2-4acc-9efc-a1c77a9ed8ab"
      },
      "execution_count": 33,
      "outputs": [
        {
          "output_type": "stream",
          "name": "stdout",
          "text": [
            " * sqlite:///test.db\n",
            "Done.\n",
            "1 rows affected.\n",
            "1 rows affected.\n",
            "1 rows affected.\n",
            "1 rows affected.\n",
            "1 rows affected.\n",
            "1 rows affected.\n",
            "1 rows affected.\n",
            "1 rows affected.\n",
            "1 rows affected.\n",
            "1 rows affected.\n",
            "1 rows affected.\n",
            "1 rows affected.\n",
            "1 rows affected.\n"
          ]
        },
        {
          "output_type": "execute_result",
          "data": {
            "text/plain": [
              "[]"
            ]
          },
          "metadata": {},
          "execution_count": 33
        }
      ]
    },
    {
      "cell_type": "code",
      "source": [
        "%%sql\n",
        "SELECT user_id FROM orders WHERE item_ordered = \"Burger\"\n",
        "INTERSECT\n",
        "SELECT user_id FROM orders WHERE item_ordered= \"Cold Drink\"\n",
        "EXCEPT\n",
        "SELECT user_id FROM orders WHERE item_ordered NOT IN (\"Burger\", \"Cold Drink\") ;\n"
      ],
      "metadata": {
        "colab": {
          "base_uri": "https://localhost:8080/",
          "height": 136
        },
        "id": "ICCXz72tHDv7",
        "outputId": "492f3d07-a7d3-411c-e83f-d6580615b634"
      },
      "execution_count": 34,
      "outputs": [
        {
          "output_type": "stream",
          "name": "stdout",
          "text": [
            " * sqlite:///test.db\n",
            "Done.\n"
          ]
        },
        {
          "output_type": "execute_result",
          "data": {
            "text/plain": [
              "[(2,), (3,), (6,)]"
            ],
            "text/html": [
              "<table>\n",
              "    <thead>\n",
              "        <tr>\n",
              "            <th>user_id</th>\n",
              "        </tr>\n",
              "    </thead>\n",
              "    <tbody>\n",
              "        <tr>\n",
              "            <td>2</td>\n",
              "        </tr>\n",
              "        <tr>\n",
              "            <td>3</td>\n",
              "        </tr>\n",
              "        <tr>\n",
              "            <td>6</td>\n",
              "        </tr>\n",
              "    </tbody>\n",
              "</table>"
            ]
          },
          "metadata": {},
          "execution_count": 34
        }
      ]
    },
    {
      "cell_type": "markdown",
      "source": [
        "***Problem statement 7***: Part (a)\n",
        "\n",
        "*   𝐖𝐫𝐢𝐭𝐞 𝐚𝐧 𝐒𝐐𝐋 𝐪𝐮𝐞𝐫𝐲 𝐭𝐨 𝐟𝐢𝐧𝐝 𝐭𝐡𝐞 𝐮𝐬𝐞𝐫𝐬 𝐰𝐡𝐨 𝐞𝐱𝐜𝐥𝐮𝐬𝐢𝐯𝐞𝐥𝐲 𝐩𝐮𝐫𝐜𝐡𝐚𝐬𝐞𝐝 𝐢𝐏𝐡𝐨𝐧𝐞 𝟏𝟓 𝐨𝐧𝐥𝐲 𝐚𝐧𝐝 𝐝𝐢𝐝 𝐧𝐨𝐭 𝐛𝐮𝐲 𝐚𝐧𝐲 𝐨𝐭𝐡𝐞𝐫 𝐢𝐏𝐡𝐨𝐧𝐞 𝐦𝐨𝐝𝐞l\n",
        "\n",
        "\n"
      ],
      "metadata": {
        "id": "B83Roaf4HfNs"
      }
    },
    {
      "cell_type": "code",
      "source": [
        "%%sql\n",
        "CREATE TABLE iphone_dataset\n",
        "(\n",
        "user_id VARCHAR(20),\n",
        "iphone_model VARCHAR(20)\n",
        ");\n",
        "INSERT INTO iphone_dataset (user_id, iphone_model) VALUES ('1', 'i-11');\n",
        "INSERT INTO iphone_dataset (user_id, iphone_model) VALUES ('1', 'i-12');\n",
        "INSERT INTO iphone_dataset (user_id, iphone_model) VALUES ('1', 'i-13');\n",
        "INSERT INTO iphone_dataset (user_id, iphone_model) VALUES ('1', 'i-14');\n",
        "INSERT INTO iphone_dataset (user_id, iphone_model) VALUES ('1', 'i-15');\n",
        "INSERT INTO iphone_dataset (user_id, iphone_model) VALUES ('2', 'i-15');\n",
        "INSERT INTO iphone_dataset (user_id, iphone_model) VALUES ('3', 'i-12');\n",
        "INSERT INTO iphone_dataset (user_id, iphone_model) VALUES ('3', 'i-15');\n",
        "\n",
        "CREATE TABLE iphone_products_dim\n",
        "(\n",
        "iphone_model VARCHAR(20)\n",
        ");\n",
        "INSERT INTO iphone_products_dim (iphone_model) VALUES ('i-11');\n",
        "INSERT INTO iphone_products_dim (iphone_model) VALUES ('i-12');\n",
        "INSERT INTO iphone_products_dim (iphone_model) VALUES ('i-13');\n",
        "INSERT INTO iphone_products_dim (iphone_model) VALUES ('i-14');\n",
        "INSERT INTO iphone_products_dim (iphone_model) VALUES ('i-15');\n"
      ],
      "metadata": {
        "colab": {
          "base_uri": "https://localhost:8080/"
        },
        "id": "Vz41txT_H0je",
        "outputId": "9d055be1-1853-4b8c-bc40-17153b4c01c0"
      },
      "execution_count": 35,
      "outputs": [
        {
          "output_type": "stream",
          "name": "stdout",
          "text": [
            " * sqlite:///test.db\n",
            "Done.\n",
            "1 rows affected.\n",
            "1 rows affected.\n",
            "1 rows affected.\n",
            "1 rows affected.\n",
            "1 rows affected.\n",
            "1 rows affected.\n",
            "1 rows affected.\n",
            "1 rows affected.\n",
            "Done.\n",
            "1 rows affected.\n",
            "1 rows affected.\n",
            "1 rows affected.\n",
            "1 rows affected.\n",
            "1 rows affected.\n"
          ]
        },
        {
          "output_type": "execute_result",
          "data": {
            "text/plain": [
              "[]"
            ]
          },
          "metadata": {},
          "execution_count": 35
        }
      ]
    },
    {
      "cell_type": "code",
      "source": [
        "%%sql\n",
        "select user_id from iphone_dataset where iphone_model = 'i-15'\n",
        "and user_id not in(select user_id from iphone_dataset where iphone_model != 'i-15');"
      ],
      "metadata": {
        "colab": {
          "base_uri": "https://localhost:8080/",
          "height": 95
        },
        "id": "180XNzNuH9_x",
        "outputId": "7c2bf93e-3615-4e69-8549-836dc45d85df"
      },
      "execution_count": 36,
      "outputs": [
        {
          "output_type": "stream",
          "name": "stdout",
          "text": [
            " * sqlite:///test.db\n",
            "Done.\n"
          ]
        },
        {
          "output_type": "execute_result",
          "data": {
            "text/plain": [
              "[('2',)]"
            ],
            "text/html": [
              "<table>\n",
              "    <thead>\n",
              "        <tr>\n",
              "            <th>user_id</th>\n",
              "        </tr>\n",
              "    </thead>\n",
              "    <tbody>\n",
              "        <tr>\n",
              "            <td>2</td>\n",
              "        </tr>\n",
              "    </tbody>\n",
              "</table>"
            ]
          },
          "metadata": {},
          "execution_count": 36
        }
      ]
    },
    {
      "cell_type": "markdown",
      "source": [
        "***Problem statement 7***: Part (b)\n",
        "\n",
        "*   𝐖𝐫𝐢𝐭𝐞 𝐚𝐧 𝐒𝐐𝐋 𝐪𝐮𝐞𝐫𝐲 𝐭𝐨 𝐢𝐝𝐞𝐧𝐭𝐢𝐟𝐲 𝐮𝐬𝐞𝐫𝐬 𝐰𝐡𝐨 𝐡𝐚𝐯𝐞 𝐮𝐩𝐠𝐫𝐚𝐝𝐞𝐝 𝐭𝐡𝐞𝐢𝐫 𝐢𝐏𝐡𝐨𝐧𝐞 𝐦𝐨𝐝𝐞𝐥 𝐟𝐫𝐨𝐦 𝐢𝐏𝐡𝐨𝐧𝐞 𝟏𝟐 𝐭𝐨 𝐢𝐏𝐡𝐨𝐧𝐞 𝟏𝟓, 𝐚𝐧𝐝 𝐭𝐡𝐞𝐲 𝐡𝐚𝐯𝐞 𝐨𝐧𝐥𝐲 𝐩𝐮𝐫𝐜𝐡𝐚𝐬𝐞𝐝 𝐭𝐰𝐨 𝐢𝐏𝐡𝐨𝐧𝐞 𝐦𝐨𝐝𝐞𝐥𝐬 𝐢𝐧 𝐭𝐨𝐭𝐚𝐥.\n",
        "\n",
        "\n",
        "\n"
      ],
      "metadata": {
        "id": "cOd_EZ3iIfVD"
      }
    },
    {
      "cell_type": "code",
      "source": [
        "%%sql\n",
        "SELECT user_id FROM\n",
        "    (SELECT user_id FROM iphone_dataset WHERE iphone_model = \"i-12\"\n",
        "    INTERSECT\n",
        "    SELECT user_id FROM iphone_dataset WHERE iphone_model = \"i-15\") a\n",
        "WHERE user_id = (\n",
        "    SELECT user_id FROM\n",
        "        ( SELECT user_id, COUNT(*) as total_model FROM iphone_dataset GROUP BY user_id ) b\n",
        "    WHERE total_model = 2 ) ;\n"
      ],
      "metadata": {
        "colab": {
          "base_uri": "https://localhost:8080/",
          "height": 95
        },
        "id": "2eHIfy2eIzlZ",
        "outputId": "30f6a50e-1c3d-46c9-8e44-e2d9dc874300"
      },
      "execution_count": 37,
      "outputs": [
        {
          "output_type": "stream",
          "name": "stdout",
          "text": [
            " * sqlite:///test.db\n",
            "Done.\n"
          ]
        },
        {
          "output_type": "execute_result",
          "data": {
            "text/plain": [
              "[('3',)]"
            ],
            "text/html": [
              "<table>\n",
              "    <thead>\n",
              "        <tr>\n",
              "            <th>user_id</th>\n",
              "        </tr>\n",
              "    </thead>\n",
              "    <tbody>\n",
              "        <tr>\n",
              "            <td>3</td>\n",
              "        </tr>\n",
              "    </tbody>\n",
              "</table>"
            ]
          },
          "metadata": {},
          "execution_count": 37
        }
      ]
    },
    {
      "cell_type": "markdown",
      "source": [
        "***Problem statement 7***: Part (c)\n",
        "\n",
        "*  𝐂𝐨𝐧𝐬𝐢𝐝𝐞𝐫 𝐲𝐨𝐮 𝐚𝐫𝐞 𝐡𝐚𝐯𝐢𝐧𝐠 𝐢𝐩𝐡𝐨𝐧𝐞_𝐩𝐫𝐨𝐝𝐮𝐜𝐭𝐬_𝐝𝐢𝐦 𝐭𝐚𝐛𝐥𝐞 𝐰𝐡𝐢𝐜𝐡 𝐜𝐨𝐧𝐭𝐚𝐢𝐧𝐬 𝐚𝐥𝐥 𝐭𝐡𝐞 𝐚𝐯𝐚𝐢𝐥𝐚𝐛𝐥𝐞 𝐢𝐩𝐡𝐨𝐧𝐞 𝐦𝐨𝐝𝐞𝐥𝐬. 𝐖𝐫𝐢𝐭𝐞 𝐚𝐧 𝐒𝐐𝐋 𝐪𝐮𝐞𝐫𝐲 𝐭𝐨 𝐟𝐢𝐧𝐝 𝐭𝐡𝐞 𝐮𝐬𝐞𝐫𝐬 𝐰𝐡𝐨 𝐡𝐚𝐯𝐞 𝐩𝐮𝐫𝐜𝐡𝐚𝐬𝐞𝐝 𝐞𝐯𝐞𝐫𝐲 𝐢𝐏𝐡𝐨𝐧𝐞 𝐦𝐨𝐝𝐞𝐥 𝐥𝐢𝐬𝐭𝐞𝐝 𝐢𝐧 𝐭𝐡𝐞 𝐢𝐩𝐡𝐨𝐧𝐞_𝐩𝐫𝐨𝐝𝐮𝐜𝐭𝐬_𝐝𝐢𝐦 𝐭𝐚𝐛𝐥𝐞.\n",
        "\n",
        "\n"
      ],
      "metadata": {
        "id": "EsWRc0cHLk7t"
      }
    },
    {
      "cell_type": "code",
      "source": [
        "%%sql\n",
        "SELECT user_id FROM\n",
        "    (SELECT user_id , COUNT(DISTINCT iphone_model) total FROM iphone_dataset GROUP BY user_id) a\n",
        "WHERE total = (\n",
        "    SELECT COUNT(*) total FROM iphone_products_dim )\n"
      ],
      "metadata": {
        "colab": {
          "base_uri": "https://localhost:8080/",
          "height": 95
        },
        "id": "BPH4P91vL0tr",
        "outputId": "df80f6bb-570e-4dc3-cb16-26be5b5018e9"
      },
      "execution_count": 38,
      "outputs": [
        {
          "output_type": "stream",
          "name": "stdout",
          "text": [
            " * sqlite:///test.db\n",
            "Done.\n"
          ]
        },
        {
          "output_type": "execute_result",
          "data": {
            "text/plain": [
              "[('1',)]"
            ],
            "text/html": [
              "<table>\n",
              "    <thead>\n",
              "        <tr>\n",
              "            <th>user_id</th>\n",
              "        </tr>\n",
              "    </thead>\n",
              "    <tbody>\n",
              "        <tr>\n",
              "            <td>1</td>\n",
              "        </tr>\n",
              "    </tbody>\n",
              "</table>"
            ]
          },
          "metadata": {},
          "execution_count": 38
        }
      ]
    },
    {
      "cell_type": "markdown",
      "source": [
        "***Problem statement 8*** : Write an SQL query 𝐭𝐨 𝐟𝐢𝐧𝐝 𝐨𝐮𝐭 𝐭𝐡𝐞 𝐜𝐨𝐮𝐧𝐭 𝐨𝐟 𝐍𝐨𝐧 𝐞𝐱𝐜𝐥𝐮𝐬𝐢𝐯𝐞 𝐩𝐫𝐨𝐝𝐮𝐜𝐭𝐬 𝐟𝐨𝐫 𝐚 𝐯𝐞𝐧𝐝𝐨𝐫.\n",
        "𝐍𝐨𝐧 𝐞𝐱𝐜𝐥𝐮𝐬𝐢𝐯𝐞 𝐩𝐫𝐨𝐝𝐮𝐜𝐭𝐬: A product which is not available in any other vendors in the table.\n",
        "\n"
      ],
      "metadata": {
        "id": "r7i2594aL_Tu"
      }
    },
    {
      "cell_type": "code",
      "source": [
        "%%sql\n",
        "create table tbl (vendor varchar(10), product varchar(20));\n",
        "insert into tbl values ('a','grape');\n",
        "insert into tbl values ('a','peach');\n",
        "insert into tbl values ('a','orange');\n",
        "insert into tbl values ('b','peach');\n",
        "insert into tbl values ('b','strawberry');\n",
        "insert into tbl values ('b','apple');\n",
        "insert into tbl values ('c','grape');\n",
        "insert into tbl values ('c','peach');\n",
        "insert into tbl values ('c','pineapple');\n"
      ],
      "metadata": {
        "colab": {
          "base_uri": "https://localhost:8080/"
        },
        "id": "57J_W7IRMQGO",
        "outputId": "c2f7dd11-af8c-43b6-b5eb-5231d96b1464"
      },
      "execution_count": 40,
      "outputs": [
        {
          "output_type": "stream",
          "name": "stdout",
          "text": [
            " * sqlite:///test.db\n",
            "Done.\n",
            "1 rows affected.\n",
            "1 rows affected.\n",
            "1 rows affected.\n",
            "1 rows affected.\n",
            "1 rows affected.\n",
            "1 rows affected.\n",
            "1 rows affected.\n",
            "1 rows affected.\n",
            "1 rows affected.\n"
          ]
        },
        {
          "output_type": "execute_result",
          "data": {
            "text/plain": [
              "[]"
            ]
          },
          "metadata": {},
          "execution_count": 40
        }
      ]
    },
    {
      "cell_type": "code",
      "source": [
        "%%sql\n",
        "WITH cte AS\n",
        "( SELECT * FROM tbl WHERE product in\n",
        "    ( SELECT product FROM tbl GROUP BY product HAVING COUNT(product) = 1 ) ) -- non exclusive condition\n",
        "SELECT vendor, COUNT(product) non_exclusive_products_cnt FROM cte GROUP BY vendor ;\n"
      ],
      "metadata": {
        "colab": {
          "base_uri": "https://localhost:8080/",
          "height": 136
        },
        "id": "lcG_E98JMVsD",
        "outputId": "5bf8c5a0-951e-450f-d274-7fc8527e6c59"
      },
      "execution_count": 41,
      "outputs": [
        {
          "output_type": "stream",
          "name": "stdout",
          "text": [
            " * sqlite:///test.db\n",
            "Done.\n"
          ]
        },
        {
          "output_type": "execute_result",
          "data": {
            "text/plain": [
              "[('a', 1), ('b', 2), ('c', 1)]"
            ],
            "text/html": [
              "<table>\n",
              "    <thead>\n",
              "        <tr>\n",
              "            <th>vendor</th>\n",
              "            <th>non_exclusive_products_cnt</th>\n",
              "        </tr>\n",
              "    </thead>\n",
              "    <tbody>\n",
              "        <tr>\n",
              "            <td>a</td>\n",
              "            <td>1</td>\n",
              "        </tr>\n",
              "        <tr>\n",
              "            <td>b</td>\n",
              "            <td>2</td>\n",
              "        </tr>\n",
              "        <tr>\n",
              "            <td>c</td>\n",
              "            <td>1</td>\n",
              "        </tr>\n",
              "    </tbody>\n",
              "</table>"
            ]
          },
          "metadata": {},
          "execution_count": 41
        }
      ]
    },
    {
      "cell_type": "markdown",
      "source": [
        "**Problem statement 9**: Write an SQL query 𝐭𝐨 𝐟𝐢𝐧𝐝 𝐭𝐡𝐞 𝐭𝐱𝐧𝐦𝐨𝐧𝐭𝐡 𝐰𝐡𝐢𝐜𝐡 𝐡𝐚𝐬 𝐭𝐡𝐞 𝐦𝐚𝐱𝐢𝐦𝐮𝐦 𝐭𝐱𝐧𝐚𝐦𝐨𝐮𝐧𝐭.\n",
        "\n"
      ],
      "metadata": {
        "id": "Vt8fLGu6Vcoq"
      }
    },
    {
      "cell_type": "code",
      "source": [
        "%%sql\n",
        "create table eshop(txnmonth varchar(50),clothing int,electronics int,sports int);\n",
        "insert into eshop values('Jan',2000,1500,3000);\n",
        "insert into eshop values('Feb',1000,2500,4000);\n",
        "insert into eshop values('Mar',2000,1400,1000);\n",
        "insert into eshop values('Apr',3000,1500,1000);\n"
      ],
      "metadata": {
        "colab": {
          "base_uri": "https://localhost:8080/"
        },
        "id": "TyVuKluOV1cL",
        "outputId": "846c8950-d3a5-4db9-ff7f-6fdb323b98ac"
      },
      "execution_count": 42,
      "outputs": [
        {
          "output_type": "stream",
          "name": "stdout",
          "text": [
            " * sqlite:///test.db\n",
            "Done.\n",
            "1 rows affected.\n",
            "1 rows affected.\n",
            "1 rows affected.\n",
            "1 rows affected.\n"
          ]
        },
        {
          "output_type": "execute_result",
          "data": {
            "text/plain": [
              "[]"
            ]
          },
          "metadata": {},
          "execution_count": 42
        }
      ]
    },
    {
      "cell_type": "code",
      "source": [
        "%%sql\n",
        "with cte as (\n",
        "    SELECT txnmonth, clothing+electronics+sports as txnamount FROM eshop )\n",
        "SELECT txnmonth FROM cte WHERE txnamount = (SELECT MAX(txnamount) FROM cte) ;\n"
      ],
      "metadata": {
        "colab": {
          "base_uri": "https://localhost:8080/",
          "height": 95
        },
        "id": "btCvPwMmV-Xt",
        "outputId": "a324f3ed-5add-4e79-a809-97fcde2dc23d"
      },
      "execution_count": 43,
      "outputs": [
        {
          "output_type": "stream",
          "name": "stdout",
          "text": [
            " * sqlite:///test.db\n",
            "Done.\n"
          ]
        },
        {
          "output_type": "execute_result",
          "data": {
            "text/plain": [
              "[('Feb',)]"
            ],
            "text/html": [
              "<table>\n",
              "    <thead>\n",
              "        <tr>\n",
              "            <th>txnmonth</th>\n",
              "        </tr>\n",
              "    </thead>\n",
              "    <tbody>\n",
              "        <tr>\n",
              "            <td>Feb</td>\n",
              "        </tr>\n",
              "    </tbody>\n",
              "</table>"
            ]
          },
          "metadata": {},
          "execution_count": 43
        }
      ]
    },
    {
      "cell_type": "markdown",
      "source": [
        "**Problem statement 10**: Write an SQL query 𝐭𝐨 𝐟𝐢𝐧𝐝 𝐭𝐡𝐞 𝐜𝐨𝐮𝐧𝐭 𝐨𝐟 𝐝𝐢𝐬𝐭𝐢𝐧𝐜𝐭 𝐝𝐞𝐩𝐚𝐫𝐭𝐦𝐞𝐧𝐭𝐬 excluding NULL\n"
      ],
      "metadata": {
        "id": "wmm4Ew5_WJbJ"
      }
    },
    {
      "cell_type": "code",
      "source": [
        "%%sql\n",
        "create table department(deptid int, deptname varchar(50));\n",
        "insert into department values(1,'Tech');\n",
        "insert into department values(2,'HR');\n",
        "insert into department values(3,null);\n",
        "insert into department values(4,'Tech');\n",
        "insert into department values(5,'HR');\n"
      ],
      "metadata": {
        "colab": {
          "base_uri": "https://localhost:8080/"
        },
        "id": "_ea7fPs2WRdu",
        "outputId": "e328dd0e-4610-464a-eeb3-a7c6d00217ef"
      },
      "execution_count": 44,
      "outputs": [
        {
          "output_type": "stream",
          "name": "stdout",
          "text": [
            " * sqlite:///test.db\n",
            "Done.\n",
            "1 rows affected.\n",
            "1 rows affected.\n",
            "1 rows affected.\n",
            "1 rows affected.\n",
            "1 rows affected.\n"
          ]
        },
        {
          "output_type": "execute_result",
          "data": {
            "text/plain": [
              "[]"
            ]
          },
          "metadata": {},
          "execution_count": 44
        }
      ]
    },
    {
      "cell_type": "code",
      "source": [
        "%%sql\n",
        "WITH cte as (SELECT DISTINCT deptname FROM department GROUP BY deptname)\n",
        "SELECT count(*) no_of_dept FROM cte ;\n"
      ],
      "metadata": {
        "colab": {
          "base_uri": "https://localhost:8080/",
          "height": 95
        },
        "id": "SRijgEUhWX9V",
        "outputId": "bf3a98b8-9abd-4822-a31d-bc2bfc0f30a7"
      },
      "execution_count": 45,
      "outputs": [
        {
          "output_type": "stream",
          "name": "stdout",
          "text": [
            " * sqlite:///test.db\n",
            "Done.\n"
          ]
        },
        {
          "output_type": "execute_result",
          "data": {
            "text/plain": [
              "[(3,)]"
            ],
            "text/html": [
              "<table>\n",
              "    <thead>\n",
              "        <tr>\n",
              "            <th>no_of_dept</th>\n",
              "        </tr>\n",
              "    </thead>\n",
              "    <tbody>\n",
              "        <tr>\n",
              "            <td>3</td>\n",
              "        </tr>\n",
              "    </tbody>\n",
              "</table>"
            ]
          },
          "metadata": {},
          "execution_count": 45
        }
      ]
    },
    {
      "cell_type": "markdown",
      "source": [
        "***Problem statement 11***: 𝐘𝐨𝐮 𝐚𝐫𝐞 𝐠𝐢𝐯𝐞𝐧 𝐭𝐡𝐞 𝐩𝐫𝐢𝐜𝐞 𝐨𝐟 𝐞𝐚𝐜𝐡 𝐬𝐤𝐮 𝐰𝐡𝐞𝐧𝐞𝐯𝐞𝐫 𝐭𝐡𝐞𝐫𝐞 𝐢𝐬 𝐚 𝐜𝐡𝐚𝐧𝐠𝐞 𝐢𝐧 𝐩𝐫𝐢𝐜𝐞.\n",
        "Write an SQL query 𝐭𝐨 𝐟𝐢𝐧𝐝 𝐭𝐡𝐞 𝐩𝐫𝐢𝐜𝐞 𝐚𝐭 𝐭𝐡𝐞 𝐬𝐭𝐚𝐫𝐭 𝐨𝐟 𝐞𝐚𝐜𝐡 𝐦𝐨𝐧𝐭𝐡 & 𝐜𝐚𝐥𝐜𝐮𝐥𝐚𝐭𝐞 𝐭𝐡𝐞 𝐝𝐢𝐟𝐟𝐞𝐫𝐞𝐧𝐜𝐞 𝐟𝐫𝐨𝐦 𝐭𝐡𝐞 𝐩𝐫𝐞𝐯𝐢𝐨𝐮𝐬 𝐦𝐨𝐧𝐭𝐡'𝐬 𝐬𝐭𝐚𝐫𝐭 𝐝𝐚𝐭𝐞.\n"
      ],
      "metadata": {
        "id": "GJjeUzkOWko8"
      }
    },
    {
      "cell_type": "code",
      "source": [
        "%%sql\n",
        "create table sku (sku_id int,\n",
        "price_date date ,\n",
        "price int\n",
        ");\n",
        "insert into sku values (1,'2023-01-01',10)\n",
        ",(1,'2023-02-15',15)\n",
        ",(1,'2023-03-03',18)\n",
        ",(1,'2023-03-27',15)\n",
        ",(1,'2023-04-06',20);\n"
      ],
      "metadata": {
        "colab": {
          "base_uri": "https://localhost:8080/"
        },
        "id": "79qm0jETWr5z",
        "outputId": "d6e8629a-3d36-4d66-d36b-16a145fb9770"
      },
      "execution_count": 46,
      "outputs": [
        {
          "output_type": "stream",
          "name": "stdout",
          "text": [
            " * sqlite:///test.db\n",
            "Done.\n",
            "5 rows affected.\n"
          ]
        },
        {
          "output_type": "execute_result",
          "data": {
            "text/plain": [
              "[]"
            ]
          },
          "metadata": {},
          "execution_count": 46
        }
      ]
    },
    {
      "cell_type": "code",
      "source": [
        "%%sql\n",
        "WITH cte AS (\n",
        "    SELECT sku_id, price_date, price,ROW_NUMBER() OVER (PARTITION BY sku_id, strftime('%Y-%m', price_date)\n",
        "    ORDER BY price_date DESC) AS new\n",
        "    FROM sku\n",
        "),\n",
        "cte1 AS (SELECT sku_id, DATE(price_date, '+1 month', 'start of month') AS price_date, price\n",
        "    FROM cte\n",
        "    WHERE new = 1\n",
        "UNION\n",
        "    SELECT sku_id, price_date,price FROM sku WHERE strftime('%d', price_date) = '01'\n",
        "    AND DATE(price_date, '+1 month', 'start of month') NOT IN (\n",
        "        SELECT DATE(price_date, '+1 month', 'start of month')\n",
        "        FROM sku\n",
        "        WHERE strftime('%d', price_date) = '01'\n",
        "    )\n",
        ")\n",
        "SELECT sku_id,price_date, price,\n",
        "    IFNULL(price - LAG(price) OVER(PARTITION BY sku_id ORDER BY price_date), 0) AS price_diff\n",
        "FROM cte1\n",
        "ORDER BY sku_id, price_date;\n"
      ],
      "metadata": {
        "colab": {
          "base_uri": "https://localhost:8080/",
          "height": 157
        },
        "id": "1YCRA2gvZYWQ",
        "outputId": "f41955b7-2536-42ab-cdea-b831506d1760"
      },
      "execution_count": 54,
      "outputs": [
        {
          "output_type": "stream",
          "name": "stdout",
          "text": [
            " * sqlite:///test.db\n",
            "Done.\n"
          ]
        },
        {
          "output_type": "execute_result",
          "data": {
            "text/plain": [
              "[(1, '2023-02-01', 10, 0),\n",
              " (1, '2023-03-01', 15, 5),\n",
              " (1, '2023-04-01', 15, 0),\n",
              " (1, '2023-05-01', 20, 5)]"
            ],
            "text/html": [
              "<table>\n",
              "    <thead>\n",
              "        <tr>\n",
              "            <th>sku_id</th>\n",
              "            <th>price_date</th>\n",
              "            <th>price</th>\n",
              "            <th>price_diff</th>\n",
              "        </tr>\n",
              "    </thead>\n",
              "    <tbody>\n",
              "        <tr>\n",
              "            <td>1</td>\n",
              "            <td>2023-02-01</td>\n",
              "            <td>10</td>\n",
              "            <td>0</td>\n",
              "        </tr>\n",
              "        <tr>\n",
              "            <td>1</td>\n",
              "            <td>2023-03-01</td>\n",
              "            <td>15</td>\n",
              "            <td>5</td>\n",
              "        </tr>\n",
              "        <tr>\n",
              "            <td>1</td>\n",
              "            <td>2023-04-01</td>\n",
              "            <td>15</td>\n",
              "            <td>0</td>\n",
              "        </tr>\n",
              "        <tr>\n",
              "            <td>1</td>\n",
              "            <td>2023-05-01</td>\n",
              "            <td>20</td>\n",
              "            <td>5</td>\n",
              "        </tr>\n",
              "    </tbody>\n",
              "</table>"
            ]
          },
          "metadata": {},
          "execution_count": 54
        }
      ]
    },
    {
      "cell_type": "markdown",
      "source": [
        "***Problem statement 12***: **Write an SQL query to find the total number of items that have been categorized as “Expensive”.**\n"
      ],
      "metadata": {
        "id": "2BR5cXzqaW9-"
      }
    },
    {
      "cell_type": "code",
      "source": [
        "%%sql\n",
        "CREATE TABLE product_price\n",
        "(Id int, ItemId int, Price decimal(10, 2), PriceRating varchar(10)) ;\n",
        "INSERT INTO product_price\n",
        "(Id, ItemId, Price, PriceRating)\n",
        "VALUES\n",
        "(1, 100, 34.5, \"EXPENSIVE\") ,\n",
        "(2, 145, 2.3, \"CHEAP\") ,\n",
        "(3, 100, 34.5, \"EXPENSIVE\") ,\n",
        "(4, 100, 34.5, \"EXPENSIVE\") ,\n",
        "(5, 145, 10, \"AFFORDABLE\") ;\n"
      ],
      "metadata": {
        "colab": {
          "base_uri": "https://localhost:8080/"
        },
        "id": "SqtdlNffafpq",
        "outputId": "5a7c1e61-2c4f-49ef-f543-99b66ef75ef4"
      },
      "execution_count": 55,
      "outputs": [
        {
          "output_type": "stream",
          "name": "stdout",
          "text": [
            " * sqlite:///test.db\n",
            "Done.\n",
            "5 rows affected.\n"
          ]
        },
        {
          "output_type": "execute_result",
          "data": {
            "text/plain": [
              "[]"
            ]
          },
          "metadata": {},
          "execution_count": 55
        }
      ]
    },
    {
      "cell_type": "code",
      "source": [
        "%%sql\n",
        "SELECT * FROM (\n",
        "    (SELECT COUNT(*) AS itemscount FROM product_price ) a ,\n",
        "    (SELECT COUNT(*) AS expensiveitemcount FROM product_price WHERE PriceRating = \"EXPENSIVE\") b\n",
        ")\n"
      ],
      "metadata": {
        "colab": {
          "base_uri": "https://localhost:8080/",
          "height": 95
        },
        "id": "tUX9QRflamIv",
        "outputId": "37fc2ebb-761a-4f54-d153-963fac31d560"
      },
      "execution_count": 56,
      "outputs": [
        {
          "output_type": "stream",
          "name": "stdout",
          "text": [
            " * sqlite:///test.db\n",
            "Done.\n"
          ]
        },
        {
          "output_type": "execute_result",
          "data": {
            "text/plain": [
              "[(5, 3)]"
            ],
            "text/html": [
              "<table>\n",
              "    <thead>\n",
              "        <tr>\n",
              "            <th>itemscount</th>\n",
              "            <th>expensiveitemcount</th>\n",
              "        </tr>\n",
              "    </thead>\n",
              "    <tbody>\n",
              "        <tr>\n",
              "            <td>5</td>\n",
              "            <td>3</td>\n",
              "        </tr>\n",
              "    </tbody>\n",
              "</table>"
            ]
          },
          "metadata": {},
          "execution_count": 56
        }
      ]
    },
    {
      "cell_type": "markdown",
      "source": [
        "***Problem statement 13***: There is a phone log table that has information about callers call history.\n",
        "Write a sql to find out callers whose first and last call was to the same person on a given day.\n"
      ],
      "metadata": {
        "id": "3lYi-9dQa0mz"
      }
    },
    {
      "cell_type": "code",
      "source": [
        "%%sql\n",
        "create table phonelog(\n",
        "    Callerid int,\n",
        "    Recipientid int,\n",
        "    Datecalled datetime\n",
        ");\n",
        "\n",
        "insert into phonelog(Callerid, Recipientid, Datecalled)\n",
        "values(1, 2, '2019-01-01 09:00:00.000'),\n",
        "       (1, 3, '2019-01-01 17:00:00.000'),\n",
        "       (1, 4, '2019-01-01 23:00:00.000'),\n",
        "       (2, 5, '2019-07-05 09:00:00.000'),\n",
        "       (2, 3, '2019-07-05 17:00:00.000'),\n",
        "       (2, 3, '2019-07-05 17:20:00.000'),\n",
        "       (2, 5, '2019-07-05 23:00:00.000'),\n",
        "       (2, 3, '2019-08-01 09:00:00.000'),\n",
        "       (2, 3, '2019-08-01 17:00:00.000'),\n",
        "       (2, 5, '2019-08-01 19:30:00.000'),\n",
        "       (2, 4, '2019-08-02 09:00:00.000'),\n",
        "       (2, 5, '2019-08-02 10:00:00.000'),\n",
        "       (2, 5, '2019-08-02 10:45:00.000'),\n",
        "       (2, 4, '2019-08-02 11:00:00.000');\n"
      ],
      "metadata": {
        "colab": {
          "base_uri": "https://localhost:8080/"
        },
        "id": "DIBi4oGWbJ9F",
        "outputId": "f855b2eb-0273-4357-d442-5af6e398cf62"
      },
      "execution_count": 57,
      "outputs": [
        {
          "output_type": "stream",
          "name": "stdout",
          "text": [
            " * sqlite:///test.db\n",
            "Done.\n",
            "14 rows affected.\n"
          ]
        },
        {
          "output_type": "execute_result",
          "data": {
            "text/plain": [
              "[]"
            ]
          },
          "metadata": {},
          "execution_count": 57
        }
      ]
    },
    {
      "cell_type": "code",
      "source": [
        "%%sql\n",
        "WITH cte1 AS (SELECT * FROM phonelog WHERE Datecalled IN (\n",
        "        SELECT MIN(Datecalled) AS start FROM phonelog\n",
        "        GROUP BY Callerid, strftime('%Y-%m', Datecalled), DATE(Datecalled)\n",
        "    )\n",
        "),\n",
        "cte2 AS (SELECT * FROM phonelog WHERE Datecalled IN (SELECT MAX(Datecalled) AS end\n",
        "        FROM phonelog\n",
        "        GROUP BY Callerid, strftime('%Y-%m', Datecalled), DATE(Datecalled)\n",
        "    )\n",
        ")\n",
        "SELECT cte1.Callerid,\n",
        "DATE(cte1.Datecalled) AS called_date,\n",
        "    cte1.Datecalled AS first_call,\n",
        "    cte2.Datecalled AS last_call,\n",
        "    cte2.Recipientid\n",
        "FROM cte1\n",
        "INNER JOIN cte2\n",
        "ON cte1.Callerid = cte2.Callerid\n",
        "AND DATE(cte1.Datecalled) = DATE(cte2.Datecalled)\n",
        "AND cte1.Recipientid = cte2.Recipientid;\n"
      ],
      "metadata": {
        "colab": {
          "base_uri": "https://localhost:8080/",
          "height": 116
        },
        "id": "cabpOkcRbiv8",
        "outputId": "fe4d9fe1-ec82-4916-e891-5f31269ee99e"
      },
      "execution_count": 62,
      "outputs": [
        {
          "output_type": "stream",
          "name": "stdout",
          "text": [
            " * sqlite:///test.db\n",
            "Done.\n"
          ]
        },
        {
          "output_type": "execute_result",
          "data": {
            "text/plain": [
              "[(2, '2019-07-05', '2019-07-05 09:00:00.000', '2019-07-05 23:00:00.000', 5),\n",
              " (2, '2019-08-02', '2019-08-02 09:00:00.000', '2019-08-02 11:00:00.000', 4)]"
            ],
            "text/html": [
              "<table>\n",
              "    <thead>\n",
              "        <tr>\n",
              "            <th>Callerid</th>\n",
              "            <th>called_date</th>\n",
              "            <th>first_call</th>\n",
              "            <th>last_call</th>\n",
              "            <th>Recipientid</th>\n",
              "        </tr>\n",
              "    </thead>\n",
              "    <tbody>\n",
              "        <tr>\n",
              "            <td>2</td>\n",
              "            <td>2019-07-05</td>\n",
              "            <td>2019-07-05 09:00:00.000</td>\n",
              "            <td>2019-07-05 23:00:00.000</td>\n",
              "            <td>5</td>\n",
              "        </tr>\n",
              "        <tr>\n",
              "            <td>2</td>\n",
              "            <td>2019-08-02</td>\n",
              "            <td>2019-08-02 09:00:00.000</td>\n",
              "            <td>2019-08-02 11:00:00.000</td>\n",
              "            <td>4</td>\n",
              "        </tr>\n",
              "    </tbody>\n",
              "</table>"
            ]
          },
          "metadata": {},
          "execution_count": 62
        }
      ]
    },
    {
      "cell_type": "markdown",
      "source": [
        "**Problem statement 14** : **Find how many products falls into the customer budget along with list of products**.\n",
        "- In case of a clash choose the less costly product\n"
      ],
      "metadata": {
        "id": "6GRlFd6-eoEx"
      }
    },
    {
      "cell_type": "code",
      "source": [
        "%%sql\n",
        "create table products\n",
        "(\n",
        "product_id varchar(20) ,\n",
        "cost int\n",
        ");\n",
        "insert into products values ('P1',200),('P2',300),('P3',500),('P4',800);\n",
        "\n",
        "create table customer_budget\n",
        "(\n",
        "customer_id int,\n",
        "budget int\n",
        ");\n",
        "\n",
        "insert into customer_budget values (100,400),(200,800),(300,1500);\n"
      ],
      "metadata": {
        "colab": {
          "base_uri": "https://localhost:8080/"
        },
        "id": "sqxxdDBEe7G8",
        "outputId": "cd28b564-7f59-4223-cc09-4b616e9005db"
      },
      "execution_count": 63,
      "outputs": [
        {
          "output_type": "stream",
          "name": "stdout",
          "text": [
            " * sqlite:///test.db\n",
            "Done.\n",
            "4 rows affected.\n",
            "Done.\n",
            "3 rows affected.\n"
          ]
        },
        {
          "output_type": "execute_result",
          "data": {
            "text/plain": [
              "[]"
            ]
          },
          "metadata": {},
          "execution_count": 63
        }
      ]
    },
    {
      "cell_type": "code",
      "source": [
        "%%sql\n",
        "WITH cte AS (SELECT product_id, cost,SUM(cost) OVER (ORDER BY cost ASC) AS total_cost\n",
        "    FROM products\n",
        ")\n",
        "SELECT c.customer_id, c.budget, COUNT(p.product_id) AS product_count,\n",
        "    GROUP_CONCAT(p.product_id, ',') AS product_list\n",
        "FROM\n",
        "    customer_budget c\n",
        "LEFT JOIN\n",
        "    cte p\n",
        "ON\n",
        "    c.budget >= p.total_cost\n",
        "GROUP BY\n",
        "    c.customer_id,\n",
        "    c.budget\n",
        "ORDER BY\n",
        "    c.customer_id;\n"
      ],
      "metadata": {
        "colab": {
          "base_uri": "https://localhost:8080/",
          "height": 136
        },
        "id": "cuwYF-yFhqtb",
        "outputId": "6fa67043-8928-4bf9-c804-16b3c166d9c8"
      },
      "execution_count": 70,
      "outputs": [
        {
          "output_type": "stream",
          "name": "stdout",
          "text": [
            " * sqlite:///test.db\n",
            "Done.\n"
          ]
        },
        {
          "output_type": "execute_result",
          "data": {
            "text/plain": [
              "[(100, 400, 1, 'P1'), (200, 800, 2, 'P1,P2'), (300, 1500, 3, 'P1,P2,P3')]"
            ],
            "text/html": [
              "<table>\n",
              "    <thead>\n",
              "        <tr>\n",
              "            <th>customer_id</th>\n",
              "            <th>budget</th>\n",
              "            <th>product_count</th>\n",
              "            <th>product_list</th>\n",
              "        </tr>\n",
              "    </thead>\n",
              "    <tbody>\n",
              "        <tr>\n",
              "            <td>100</td>\n",
              "            <td>400</td>\n",
              "            <td>1</td>\n",
              "            <td>P1</td>\n",
              "        </tr>\n",
              "        <tr>\n",
              "            <td>200</td>\n",
              "            <td>800</td>\n",
              "            <td>2</td>\n",
              "            <td>P1,P2</td>\n",
              "        </tr>\n",
              "        <tr>\n",
              "            <td>300</td>\n",
              "            <td>1500</td>\n",
              "            <td>3</td>\n",
              "            <td>P1,P2,P3</td>\n",
              "        </tr>\n",
              "    </tbody>\n",
              "</table>"
            ]
          },
          "metadata": {},
          "execution_count": 70
        }
      ]
    }
  ]
}